{
 "cells": [
  {
   "cell_type": "code",
   "execution_count": 5,
   "metadata": {},
   "outputs": [],
   "source": [
    "import folium\n",
    "from folium.plugins import HeatMap\n",
    "import pandas as pd\n",
    "data=pd.read_csv(\"violent_crimes.csv\")# Drop rows with missing latitude or longitude values\n",
    "data = data.dropna(subset=['Latitude', 'Longitude'])\n",
    "\n",
    "# Extract latitude and longitude columns\n",
    "locations = data[['Latitude', 'Longitude']]\n",
    "\n",
    "# Create a folium map centered around the mean latitude and longitude\n",
    "crime_map = folium.Map(location=[locations['Latitude'].mean(), locations['Longitude'].mean()], zoom_start=12)\n",
    "\n",
    "# Add heatmap layer\n",
    "heat_map = HeatMap(locations, radius=15)\n",
    "crime_map.add_child(heat_map)\n",
    "\n",
    "# Display the map\n",
    "crime_map.save(\"crime_heatmap.html\")"
   ]
  }
 ],
 "metadata": {
  "kernelspec": {
   "display_name": "base",
   "language": "python",
   "name": "python3"
  },
  "language_info": {
   "codemirror_mode": {
    "name": "ipython",
    "version": 3
   },
   "file_extension": ".py",
   "mimetype": "text/x-python",
   "name": "python",
   "nbconvert_exporter": "python",
   "pygments_lexer": "ipython3",
   "version": "3.11.4"
  }
 },
 "nbformat": 4,
 "nbformat_minor": 2
}
