{
 "cells": [
  {
   "cell_type": "code",
   "execution_count": null,
   "metadata": {},
   "outputs": [],
   "source": [
    "import pandas as pd\n",
    "import numpy as np\n",
    "import matplotlib.pyplot as plt"
   ]
  },
  {
   "cell_type": "code",
   "execution_count": null,
   "metadata": {},
   "outputs": [],
   "source": [
    "# crimes_df = pd.read_csv(\"Crimes.csv\")\n",
    "moon_df = pd.read_csv(\"full_moon.csv\")\n",
    "holidays_df = pd.read_csv(\"holidays.csv\")\n",
    "weather_df = pd.read_csv(\"weather.csv\")\n",
    "vc_df = pd.read_csv(\"violent_crimes.csv\")"
   ]
  },
  {
   "cell_type": "code",
   "execution_count": null,
   "metadata": {},
   "outputs": [],
   "source": [
    "vc_df[\"Date\"] = pd.to_datetime(vc_df[\"Date\"])\n",
    "#make Date into two columns with the date and time\n",
    "vc_df[\"Time\"] = vc_df[\"Date\"].dt.time\n",
    "vc_df[\"Date\"] = vc_df[\"Date\"].dt.date\n",
    "vc_df.head()"
   ]
  },
  {
   "cell_type": "code",
   "execution_count": null,
   "metadata": {},
   "outputs": [],
   "source": [
    "moon_df.rename(columns = {'FullMoonDates':'Date'}, inplace = True)\n",
    "#convert Date to datetime\n",
    "moon_df[\"Date\"] = pd.to_datetime(moon_df[\"Date\"])\n",
    "moon_df.head()"
   ]
  },
  {
   "cell_type": "code",
   "execution_count": null,
   "metadata": {},
   "outputs": [],
   "source": [
    "holidays_df['Date'] = pd.to_datetime(holidays_df['Date'])\n",
    "holidays_df.head()"
   ]
  },
  {
   "cell_type": "code",
   "execution_count": null,
   "metadata": {},
   "outputs": [],
   "source": [
    "#rename datetime to Date\n",
    "weather_df.rename(columns = {'datetime':'Date'}, inplace = True)\n",
    "#convert Date to datetime\n",
    "weather_df[\"Date\"] = pd.to_datetime(weather_df[\"Date\"])\n",
    "weather_df.head()"
   ]
  },
  {
   "cell_type": "code",
   "execution_count": null,
   "metadata": {},
   "outputs": [],
   "source": [
    "vc_df['Date'] = pd.to_datetime(vc_df['Date'])\n",
    "# type(vc_df[\"Date\"][0])\n",
    "len(vc_df)"
   ]
  },
  {
   "cell_type": "code",
   "execution_count": 1,
   "metadata": {},
   "outputs": [
    {
     "ename": "NameError",
     "evalue": "name 'pd' is not defined",
     "output_type": "error",
     "traceback": [
      "\u001b[1;31m---------------------------------------------------------------------------\u001b[0m",
      "\u001b[1;31mNameError\u001b[0m                                 Traceback (most recent call last)",
      "Cell \u001b[1;32mIn[1], line 2\u001b[0m\n\u001b[0;32m      1\u001b[0m \u001b[38;5;66;03m# keep only rows that match the date in vc_df\u001b[39;00m\n\u001b[1;32m----> 2\u001b[0m merged_df \u001b[38;5;241m=\u001b[39m\u001b[43mpd\u001b[49m\u001b[38;5;241m.\u001b[39mmerge(vc_df, moon_df, on\u001b[38;5;241m=\u001b[39m\u001b[38;5;124m'\u001b[39m\u001b[38;5;124mDate\u001b[39m\u001b[38;5;124m'\u001b[39m, how\u001b[38;5;241m=\u001b[39m\u001b[38;5;124m'\u001b[39m\u001b[38;5;124mleft\u001b[39m\u001b[38;5;124m'\u001b[39m)\n\u001b[0;32m      3\u001b[0m merged_df \u001b[38;5;241m=\u001b[39mpd\u001b[38;5;241m.\u001b[39mmerge(merged_df, holidays_df, on\u001b[38;5;241m=\u001b[39m\u001b[38;5;124m'\u001b[39m\u001b[38;5;124mDate\u001b[39m\u001b[38;5;124m'\u001b[39m, how\u001b[38;5;241m=\u001b[39m\u001b[38;5;124m'\u001b[39m\u001b[38;5;124mleft\u001b[39m\u001b[38;5;124m'\u001b[39m)\n\u001b[0;32m      4\u001b[0m merged_df \u001b[38;5;241m=\u001b[39mpd\u001b[38;5;241m.\u001b[39mmerge(merged_df, weather_df, on\u001b[38;5;241m=\u001b[39m\u001b[38;5;124m'\u001b[39m\u001b[38;5;124mDate\u001b[39m\u001b[38;5;124m'\u001b[39m, how\u001b[38;5;241m=\u001b[39m\u001b[38;5;124m'\u001b[39m\u001b[38;5;124mleft\u001b[39m\u001b[38;5;124m'\u001b[39m)\n",
      "\u001b[1;31mNameError\u001b[0m: name 'pd' is not defined"
     ]
    }
   ],
   "source": [
    "# keep only rows that match the date in vc_df\n",
    "merged_df =pd.merge(vc_df, moon_df, on='Date', how='left')\n",
    "merged_df =pd.merge(merged_df, holidays_df, on='Date', how='left')\n",
    "merged_df =pd.merge(merged_df, weather_df, on='Date', how='left')\n",
    "# # keep only rows that match the date in moon_df\n",
    "len(merged_df)\n",
    "merged_df.head()\n",
    "merged_df.columns"
   ]
  }
 ],
 "metadata": {
  "kernelspec": {
   "display_name": "Python 3",
   "language": "python",
   "name": "python3"
  },
  "language_info": {
   "codemirror_mode": {
    "name": "ipython",
    "version": 3
   },
   "file_extension": ".py",
   "mimetype": "text/x-python",
   "name": "python",
   "nbconvert_exporter": "python",
   "pygments_lexer": "ipython3",
   "version": "3.11.5"
  }
 },
 "nbformat": 4,
 "nbformat_minor": 2
}
