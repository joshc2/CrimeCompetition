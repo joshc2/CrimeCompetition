{
 "cells": [
  {
   "cell_type": "code",
   "execution_count": null,
   "metadata": {},
   "outputs": [],
   "source": [
    "import pandas as pd\n",
    "import numpy as np\n",
    "import matplotlib.pyplot as plt"
   ]
  },
  {
   "cell_type": "code",
   "execution_count": null,
   "metadata": {},
   "outputs": [],
   "source": [
    "# crimes_df = pd.read_csv(\"Crimes.csv\")\n",
    "moon_df = pd.read_csv(\"full_moon.csv\")\n",
    "holidays_df = pd.read_csv(\"holidays.csv\")\n",
    "weather_df = pd.read_csv(\"weather.csv\")\n",
    "vc_df = pd.read_csv(\"violent_crimes.csv\")"
   ]
  },
  {
   "cell_type": "code",
   "execution_count": null,
   "metadata": {},
   "outputs": [],
   "source": [
    "vc_df[\"Date\"] = pd.to_datetime(vc_df[\"Date\"])\n",
    "#make Date into two columns with the date and time\n",
    "vc_df[\"Time\"] = vc_df[\"Date\"].dt.time\n",
    "vc_df[\"Date\"] = vc_df[\"Date\"].dt.date\n",
    "vc_df.head()"
   ]
  },
  {
   "cell_type": "code",
   "execution_count": null,
   "metadata": {},
   "outputs": [],
   "source": [
    "moon_df.rename(columns = {'FullMoonDates':'Date'}, inplace = True)\n",
    "#convert Date to datetime\n",
    "moon_df[\"Date\"] = pd.to_datetime(moon_df[\"Date\"])\n",
    "moon_df.head()"
   ]
  },
  {
   "cell_type": "code",
   "execution_count": null,
   "metadata": {},
   "outputs": [],
   "source": [
    "holidays_df['Date'] = pd.to_datetime(holidays_df['Date'])\n",
    "holidays_df.head()"
   ]
  },
  {
   "cell_type": "code",
   "execution_count": null,
   "metadata": {},
   "outputs": [],
   "source": [
    "#rename datetime to Date\n",
    "weather_df.rename(columns = {'datetime':'Date'}, inplace = True)\n",
    "#convert Date to datetime\n",
    "weather_df[\"Date\"] = pd.to_datetime(weather_df[\"Date\"])\n",
    "weather_df.head()"
   ]
  },
  {
   "cell_type": "code",
   "execution_count": null,
   "metadata": {},
   "outputs": [],
   "source": [
    "vc_df['Date'] = pd.to_datetime(vc_df['Date'])\n",
    "# type(vc_df[\"Date\"][0])\n",
    "len(vc_df)"
   ]
  },
  {
   "cell_type": "code",
   "execution_count": null,
   "metadata": {},
   "outputs": [],
   "source": [
    "# keep only rows that match the date in vc_df\n",
    "merged_df =pd.merge(vc_df, moon_df, on='Date', how='left')\n",
    "merged_df =pd.merge(merged_df, holidays_df, on='Date', how='left')\n",
    "merged_df =pd.merge(merged_df, weather_df, on='Date', how='left')\n",
    "# # keep only rows that match the date in moon_df\n",
    "len(merged_df)\n",
    "merged_df.head()\n",
    "# merged_df.columns"
   ]
  }
 ],
 "metadata": {
  "language_info": {
   "name": "python"
  }
 },
 "nbformat": 4,
 "nbformat_minor": 2
}
